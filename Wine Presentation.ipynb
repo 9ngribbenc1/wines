{
 "cells": [
  {
   "cell_type": "markdown",
   "metadata": {},
   "source": [
    "Welcome to my exploration of red Portuguese vinho verde wines. Vinho verde is a common wine varietal in Portugal, known for its light fruity flavor, slight effervescence, and overall drinkability on a warm summer day. While vinho verde is most commonly known for its white version, a red version also exists, and it is into these wines that we will delve. This data set comes from "
   ]
  }
 ],
 "metadata": {
  "kernelspec": {
   "display_name": "p3workshop",
   "language": "python",
   "name": "p3workshop"
  },
  "language_info": {
   "codemirror_mode": {
    "name": "ipython",
    "version": 3
   },
   "file_extension": ".py",
   "mimetype": "text/x-python",
   "name": "python",
   "nbconvert_exporter": "python",
   "pygments_lexer": "ipython3",
   "version": "3.7.16"
  }
 },
 "nbformat": 4,
 "nbformat_minor": 0
}
