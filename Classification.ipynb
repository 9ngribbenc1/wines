{
 "cells": [
  {
   "cell_type": "code",
   "execution_count": 42,
   "metadata": {
    "collapsed": false
   },
   "outputs": [],
   "source": [
    "# This notebook does classification of the wines between good and bad.\n",
    "\n",
    "# Following this, then in the p3workshop running pip install let me install the modules\n",
    "#http://echrislynch.com/2019/02/01/adding-an-environment-to-jupyter-notebooks/\n",
    "\n",
    "import numpy as np\n",
    "import pandas as pd\n",
    "import matplotlib.pyplot as plt\n",
    "import seaborn as sns\n",
    "\n",
    "from sklearn.feature_selection import mutual_info_regression\n",
    "from sklearn.preprocessing import StandardScaler\n",
    "\n",
    "from sklearn import linear_model\n",
    "from sklearn.pipeline import Pipeline\n",
    "from sklearn.compose import make_column_transformer\n",
    "from sklearn.metrics import mean_absolute_error, accuracy_score, confusion_matrix\n",
    "from sklearn.model_selection import cross_val_score, train_test_split\n",
    "from IPython import display\n",
    "from sklearn.decomposition import PCA\n",
    "from sklearn.cluster import KMeans\n",
    "\n",
    "from xgboost import XGBRegressor\n",
    "from xgboost import XGBClassifier\n",
    "\n",
    "from tensorflow import keras\n",
    "from tensorflow.keras import layers, callbacks\n",
    "\n",
    "\n",
    "sns.set_palette(\"bright\")\n",
    "\n",
    "# Import the wine data set\n",
    "data = pd.read_csv('wineQualityReds.csv', usecols=(np.arange(12)+1))\n",
    "\n",
    "# Fix outliers in chlorides and residual sugar for better visualization\n",
    "data[\"chlorides\"] = pd.Series([min(x, 0.14) for x in data[\"chlorides\"]])\n",
    "data[\"residual.sugar\"] = pd.Series([min(x, 4.) for x in data[\"residual.sugar\"]])\n",
    "data[\"total.sulfur.dioxide\"] = pd.Series([min(x, 170.) for x in data[\"total.sulfur.dioxide\"]])\n",
    "data[\"sulphates\"] = pd.Series([min(x, 1.4) for x in data[\"sulphates\"]])\n",
    "\n",
    "data[\"GoodBad\"] = (np.sign(data[\"quality\"]-6.5)+1.)/2."
   ]
  },
  {
   "cell_type": "code",
   "execution_count": 43,
   "metadata": {
    "collapsed": false
   },
   "outputs": [],
   "source": [
    "# Define a function for preping data for the classification algorithm.\n",
    "#print(data.columns)\n",
    "def prep_for_classifier(data):\n",
    "\n",
    "    data_prep = data.copy(deep=True)\n",
    "    y = data_prep.pop(\"GoodBad\")\n",
    "    data_prep = data_prep.drop(\"quality\", axis=1)\n",
    "    #print(data_prep.head())\n",
    "    X_train, X_test, y_train, y_test = train_test_split(data_prep, y, test_size=0.3, random_state=11121)\n",
    "    std_scaler = StandardScaler()\n",
    "    X_cols = data_prep.columns\n",
    "    X_train = std_scaler.fit_transform(X_train)\n",
    "    X_train = pd.DataFrame(X_train, columns=X_cols)\n",
    "    X_test = std_scaler.transform(X_test)\n",
    "    X_test = pd.DataFrame(X_test, columns=X_cols)\n",
    "    \n",
    "    return [X_train, X_test, y_train, y_test]\n",
    "    "
   ]
  },
  {
   "cell_type": "code",
   "execution_count": 56,
   "metadata": {
    "collapsed": false
   },
   "outputs": [
    {
     "name": "stdout",
     "output_type": "stream",
     "text": [
      "[0]\tvalidation_0-auc:0.81783\n",
      "[1]\tvalidation_0-auc:0.82103\n",
      "[2]\tvalidation_0-auc:0.83041\n",
      "[3]\tvalidation_0-auc:0.83367\n",
      "[4]\tvalidation_0-auc:0.83587\n",
      "[5]\tvalidation_0-auc:0.84234\n",
      "[6]\tvalidation_0-auc:0.85875\n",
      "[7]\tvalidation_0-auc:0.85869\n",
      "[8]\tvalidation_0-auc:0.86218\n",
      "[9]\tvalidation_0-auc:0.86550\n",
      "[10]\tvalidation_0-auc:0.87427\n",
      "[11]\tvalidation_0-auc:0.87362\n",
      "[12]\tvalidation_0-auc:0.87243\n",
      "[13]\tvalidation_0-auc:0.87863\n",
      "[14]\tvalidation_0-auc:0.88208\n",
      "[15]\tvalidation_0-auc:0.88322\n",
      "[16]\tvalidation_0-auc:0.88423\n",
      "[17]\tvalidation_0-auc:0.88613\n",
      "[18]\tvalidation_0-auc:0.88669\n",
      "[19]\tvalidation_0-auc:0.88867\n",
      "[20]\tvalidation_0-auc:0.88768\n",
      "[21]\tvalidation_0-auc:0.88714\n",
      "[22]\tvalidation_0-auc:0.88717\n",
      "[23]\tvalidation_0-auc:0.88707\n",
      "[24]\tvalidation_0-auc:0.88710\n",
      "[25]\tvalidation_0-auc:0.88748\n",
      "[26]\tvalidation_0-auc:0.88674\n",
      "[27]\tvalidation_0-auc:0.88576\n",
      "[28]\tvalidation_0-auc:0.88640\n",
      "[29]\tvalidation_0-auc:0.88775\n",
      "[30]\tvalidation_0-auc:0.88695\n",
      "[31]\tvalidation_0-auc:0.88775\n",
      "[32]\tvalidation_0-auc:0.89042\n",
      "[33]\tvalidation_0-auc:0.89069\n",
      "[34]\tvalidation_0-auc:0.88965\n",
      "[35]\tvalidation_0-auc:0.89194\n",
      "[36]\tvalidation_0-auc:0.89386\n",
      "[37]\tvalidation_0-auc:0.89444\n",
      "[38]\tvalidation_0-auc:0.89488\n",
      "[39]\tvalidation_0-auc:0.89498\n",
      "[40]\tvalidation_0-auc:0.89594\n",
      "[41]\tvalidation_0-auc:0.89651\n",
      "[42]\tvalidation_0-auc:0.89771\n",
      "[43]\tvalidation_0-auc:0.89900\n",
      "[44]\tvalidation_0-auc:0.89900\n",
      "[45]\tvalidation_0-auc:0.90009\n",
      "[46]\tvalidation_0-auc:0.90176\n"
     ]
    },
    {
     "name": "stderr",
     "output_type": "stream",
     "text": [
      "C:\\Anaconda2\\envs\\p3workshop\\lib\\site-packages\\xgboost\\sklearn.py:797: UserWarning: `eval_metric` in `fit` method is deprecated for better compatibility with scikit-learn, use `eval_metric` in constructor or`set_params` instead.\n",
      "  UserWarning,\n"
     ]
    },
    {
     "name": "stdout",
     "output_type": "stream",
     "text": [
      "[47]\tvalidation_0-auc:0.90152\n",
      "[48]\tvalidation_0-auc:0.90227\n",
      "[49]\tvalidation_0-auc:0.90291\n",
      "[50]\tvalidation_0-auc:0.90302\n",
      "[51]\tvalidation_0-auc:0.90380\n",
      "[52]\tvalidation_0-auc:0.90411\n",
      "[53]\tvalidation_0-auc:0.90428\n",
      "[54]\tvalidation_0-auc:0.90472\n",
      "[55]\tvalidation_0-auc:0.90489\n",
      "[56]\tvalidation_0-auc:0.90499\n",
      "[57]\tvalidation_0-auc:0.90489\n",
      "[58]\tvalidation_0-auc:0.90530\n",
      "[59]\tvalidation_0-auc:0.90554\n",
      "[60]\tvalidation_0-auc:0.90523\n",
      "[61]\tvalidation_0-auc:0.90557\n",
      "[62]\tvalidation_0-auc:0.90598\n",
      "[63]\tvalidation_0-auc:0.90591\n",
      "[64]\tvalidation_0-auc:0.90656\n",
      "[65]\tvalidation_0-auc:0.90669\n",
      "[66]\tvalidation_0-auc:0.90700\n",
      "[67]\tvalidation_0-auc:0.90659\n",
      "[68]\tvalidation_0-auc:0.90645\n",
      "[69]\tvalidation_0-auc:0.90656\n",
      "[70]\tvalidation_0-auc:0.90594\n",
      "[71]\tvalidation_0-auc:0.90560\n",
      "[72]\tvalidation_0-auc:0.90560\n",
      "[73]\tvalidation_0-auc:0.90526\n",
      "[74]\tvalidation_0-auc:0.90451\n",
      "[75]\tvalidation_0-auc:0.90438\n",
      "[76]\tvalidation_0-auc:0.90472\n",
      "[77]\tvalidation_0-auc:0.90485\n",
      "[78]\tvalidation_0-auc:0.90533\n",
      "[79]\tvalidation_0-auc:0.90509\n",
      "[80]\tvalidation_0-auc:0.90499\n",
      "[81]\tvalidation_0-auc:0.90492\n",
      "[82]\tvalidation_0-auc:0.90547\n",
      "[83]\tvalidation_0-auc:0.90533\n",
      "[84]\tvalidation_0-auc:0.90571\n",
      "[85]\tvalidation_0-auc:0.90496\n",
      "[86]\tvalidation_0-auc:0.90506\n",
      "[87]\tvalidation_0-auc:0.90509\n",
      "[88]\tvalidation_0-auc:0.90489\n",
      "[89]\tvalidation_0-auc:0.90400\n",
      "[90]\tvalidation_0-auc:0.90417\n",
      "[91]\tvalidation_0-auc:0.90434\n",
      "[92]\tvalidation_0-auc:0.90394\n",
      "[93]\tvalidation_0-auc:0.90472\n",
      "[94]\tvalidation_0-auc:0.90441\n",
      "[95]\tvalidation_0-auc:0.90513\n",
      "[96]\tvalidation_0-auc:0.90499\n",
      "[97]\tvalidation_0-auc:0.90492\n",
      "[98]\tvalidation_0-auc:0.90472\n",
      "[99]\tvalidation_0-auc:0.90489\n",
      "[100]\tvalidation_0-auc:0.90540\n",
      "[101]\tvalidation_0-auc:0.90516\n",
      "[102]\tvalidation_0-auc:0.90560\n",
      "[103]\tvalidation_0-auc:0.90622\n",
      "[104]\tvalidation_0-auc:0.90639\n",
      "[105]\tvalidation_0-auc:0.90584\n",
      "[106]\tvalidation_0-auc:0.90608\n",
      "[107]\tvalidation_0-auc:0.90591\n",
      "[108]\tvalidation_0-auc:0.90577\n",
      "[109]\tvalidation_0-auc:0.90608\n",
      "[110]\tvalidation_0-auc:0.90679\n",
      "[111]\tvalidation_0-auc:0.90717\n",
      "[112]\tvalidation_0-auc:0.90734\n",
      "[113]\tvalidation_0-auc:0.90758\n",
      "[114]\tvalidation_0-auc:0.90741\n",
      "[115]\tvalidation_0-auc:0.90686\n",
      "[116]\tvalidation_0-auc:0.90748\n",
      "[117]\tvalidation_0-auc:0.90741\n",
      "[118]\tvalidation_0-auc:0.90758\n",
      "[119]\tvalidation_0-auc:0.90727\n",
      "[120]\tvalidation_0-auc:0.90761\n",
      "[121]\tvalidation_0-auc:0.90775\n",
      "[122]\tvalidation_0-auc:0.90765\n",
      "[123]\tvalidation_0-auc:0.90744\n",
      "[124]\tvalidation_0-auc:0.90785\n",
      "[125]\tvalidation_0-auc:0.90754\n",
      "[126]\tvalidation_0-auc:0.90799\n",
      "[127]\tvalidation_0-auc:0.90850\n",
      "[128]\tvalidation_0-auc:0.90880\n",
      "[129]\tvalidation_0-auc:0.90877\n",
      "[130]\tvalidation_0-auc:0.90887\n",
      "[131]\tvalidation_0-auc:0.90809\n",
      "[132]\tvalidation_0-auc:0.90819\n",
      "[133]\tvalidation_0-auc:0.90816\n",
      "[134]\tvalidation_0-auc:0.90802\n",
      "[135]\tvalidation_0-auc:0.90775\n",
      "[136]\tvalidation_0-auc:0.90802\n",
      "[137]\tvalidation_0-auc:0.90785\n",
      "[138]\tvalidation_0-auc:0.90778\n",
      "[139]\tvalidation_0-auc:0.90826\n",
      "[140]\tvalidation_0-auc:0.90802\n",
      "[141]\tvalidation_0-auc:0.90788\n",
      "[142]\tvalidation_0-auc:0.90782\n",
      "[143]\tvalidation_0-auc:0.90741\n",
      "[144]\tvalidation_0-auc:0.90754\n",
      "[145]\tvalidation_0-auc:0.90751\n",
      "[146]\tvalidation_0-auc:0.90748\n",
      "[147]\tvalidation_0-auc:0.90751\n",
      "[148]\tvalidation_0-auc:0.90696\n",
      "[149]\tvalidation_0-auc:0.90720\n",
      "[150]\tvalidation_0-auc:0.90737\n",
      "[151]\tvalidation_0-auc:0.90707\n",
      "[152]\tvalidation_0-auc:0.90676\n",
      "[153]\tvalidation_0-auc:0.90700\n",
      "[154]\tvalidation_0-auc:0.90707\n",
      "[155]\tvalidation_0-auc:0.90673\n",
      "[156]\tvalidation_0-auc:0.90707\n",
      "[157]\tvalidation_0-auc:0.90731\n",
      "[158]\tvalidation_0-auc:0.90727\n",
      "[159]\tvalidation_0-auc:0.90727\n",
      "[160]\tvalidation_0-auc:0.90717\n",
      "[161]\tvalidation_0-auc:0.90693\n",
      "[162]\tvalidation_0-auc:0.90696\n",
      "[163]\tvalidation_0-auc:0.90649\n",
      "[164]\tvalidation_0-auc:0.90659\n",
      "[165]\tvalidation_0-auc:0.90703\n",
      "[166]\tvalidation_0-auc:0.90693\n",
      "[167]\tvalidation_0-auc:0.90666\n",
      "[168]\tvalidation_0-auc:0.90683\n",
      "[169]\tvalidation_0-auc:0.90741\n",
      "[170]\tvalidation_0-auc:0.90737\n",
      "[171]\tvalidation_0-auc:0.90751\n",
      "[172]\tvalidation_0-auc:0.90751\n",
      "[173]\tvalidation_0-auc:0.90744\n",
      "[174]\tvalidation_0-auc:0.90765\n",
      "[175]\tvalidation_0-auc:0.90734\n",
      "[176]\tvalidation_0-auc:0.90758\n",
      "[177]\tvalidation_0-auc:0.90775\n",
      "[178]\tvalidation_0-auc:0.90792\n",
      "[179]\tvalidation_0-auc:0.90792\n",
      "[180]\tvalidation_0-auc:0.90829\n",
      "[181]\tvalidation_0-auc:0.90751\n",
      "[182]\tvalidation_0-auc:0.90775\n",
      "[183]\tvalidation_0-auc:0.90751\n",
      "[184]\tvalidation_0-auc:0.90731\n",
      "[185]\tvalidation_0-auc:0.90707\n",
      "[186]\tvalidation_0-auc:0.90690\n",
      "[187]\tvalidation_0-auc:0.90642\n",
      "[188]\tvalidation_0-auc:0.90659\n",
      "[189]\tvalidation_0-auc:0.90676\n",
      "[190]\tvalidation_0-auc:0.90700\n",
      "[191]\tvalidation_0-auc:0.90724\n",
      "[192]\tvalidation_0-auc:0.90737\n",
      "[193]\tvalidation_0-auc:0.90751\n",
      "[194]\tvalidation_0-auc:0.90819\n",
      "[195]\tvalidation_0-auc:0.90778\n",
      "[196]\tvalidation_0-auc:0.90805\n",
      "[197]\tvalidation_0-auc:0.90816\n",
      "[198]\tvalidation_0-auc:0.90829\n",
      "[199]\tvalidation_0-auc:0.90816\n"
     ]
    },
    {
     "data": {
      "text/plain": [
       "XGBClassifier(base_score=0.5, booster='gbtree', callbacks=None,\n",
       "              colsample_bylevel=1, colsample_bynode=1, colsample_bytree=1,\n",
       "              early_stopping_rounds=None, enable_categorical=False,\n",
       "              eval_metric=None, gamma=0, gpu_id=-1, grow_policy='depthwise',\n",
       "              importance_type=None, interaction_constraints='',\n",
       "              learning_rate=0.07, max_bin=256, max_cat_to_onehot=4,\n",
       "              max_delta_step=0, max_depth=6, max_leaves=0, min_child_weight=1,\n",
       "              missing=nan, monotone_constraints='()', n_estimators=200,\n",
       "              n_jobs=4, num_parallel_tree=1, predictor='auto', random_state=0,\n",
       "              reg_alpha=0, reg_lambda=1, ...)"
      ]
     },
     "execution_count": 56,
     "metadata": {},
     "output_type": "execute_result"
    }
   ],
   "source": [
    "# Fit the XGB Classifier to the original data set.\n",
    "X_train, X_test, y_train, y_test = prep_for_classifier(data)\n",
    "#print(X_train.head())\n",
    "xgbmodel = XGBClassifier(n_estimators = 200, learning_rate=0.07, n_jobs=4)\n",
    "xgbmodel.fit(X_train, y_train, eval_metric=\"auc\", eval_set=[(X_test, y_test)])"
   ]
  },
  {
   "cell_type": "code",
   "execution_count": 54,
   "metadata": {
    "collapsed": true
   },
   "outputs": [],
   "source": [
    "xgb_results = xgbmodel.predict(X_test)"
   ]
  },
  {
   "cell_type": "code",
   "execution_count": 52,
   "metadata": {
    "collapsed": false
   },
   "outputs": [
    {
     "data": {
      "text/plain": [
       "[<matplotlib.lines.Line2D at 0x22468f38bc8>]"
      ]
     },
     "execution_count": 52,
     "metadata": {},
     "output_type": "execute_result"
    },
    {
     "data": {
      "image/png": "[encoded data removed]",
      "text/plain": [
       "<Figure size 640x480 with 1 Axes>"
      ]
     },
     "metadata": {},
     "output_type": "display_data"
    }
   ],
   "source": [
    "plt.plot(list(xgb_results-0.2))\n",
    "plt.plot(list(y_test))"
   ]
  },
  {
   "cell_type": "code",
   "execution_count": 47,
   "metadata": {
    "collapsed": false
   },
   "outputs": [
    {
     "data": {
      "text/plain": [
       "array([[388,  20],\n",
       "       [ 26,  46]], dtype=int64)"
      ]
     },
     "execution_count": 47,
     "metadata": {},
     "output_type": "execute_result"
    }
   ],
   "source": [
    "confusion_matrix(y_test, xgb_results)"
   ]
  },
  {
   "cell_type": "code",
   "execution_count": 55,
   "metadata": {
    "collapsed": false
   },
   "outputs": [
    {
     "data": {
      "text/plain": [
       "array([[388,  20],\n",
       "       [ 26,  46]], dtype=int64)"
      ]
     },
     "execution_count": 55,
     "metadata": {},
     "output_type": "execute_result"
    }
   ],
   "source": [
    "confusion_matrix(y_test, xgb_results)"
   ]
  },
  {
   "cell_type": "code",
   "execution_count": null,
   "metadata": {
    "collapsed": true
   },
   "outputs": [],
   "source": []
  }
 ],
 "metadata": {
  "kernelspec": {
   "display_name": "p3workshop",
   "language": "python",
   "name": "p3workshop"
  },
  "language_info": {
   "codemirror_mode": {
    "name": "ipython",
    "version": 3
   },
   "file_extension": ".py",
   "mimetype": "text/x-python",
   "name": "python",
   "nbconvert_exporter": "python",
   "pygments_lexer": "ipython3",
   "version": "3.7.16"
  }
 },
 "nbformat": 4,
 "nbformat_minor": 0
}
